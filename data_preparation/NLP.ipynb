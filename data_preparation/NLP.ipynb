{
 "cells": [
  {
   "cell_type": "code",
   "execution_count": 31,
   "metadata": {},
   "outputs": [
    {
     "name": "stderr",
     "output_type": "stream",
     "text": [
      "C:\\Users\\Thomas Aujoux\\AppData\\Local\\Temp\\ipykernel_7128\\3908153742.py:3: DtypeWarning: Columns (4,5,6,17) have mixed types. Specify dtype option on import or set low_memory=False.\n",
      "  df = pd.read_csv(r'C:\\Users\\Thomas Aujoux\\Documents\\GitHub\\food-classification\\data_preparation\\ingredients.csv', dtype={'Code produit': int, 'Secteur': str, \"Famille\": str, \"Ingrédient\": str}, sep=';')\n"
     ]
    }
   ],
   "source": [
    "import pandas as pd\n",
    "import numpy as np\n",
    "df = pd.read_csv(r'C:\\Users\\Thomas Aujoux\\Documents\\GitHub\\food-classification\\data_preparation\\ingredients.csv', dtype={'Code produit': int, 'Secteur': str, \"Famille\": str, \"Ingrédient\": str}, sep=';')\n",
    "df = df[[\"Code produit\", \"Secteur\", \"Famille\", \"Ingrédient\"]]\n",
    "df = df.rename(columns={ 'Code produit': 'Code_produit' })\n",
    "df = df[~df['Secteur'].isin(['Sauces condimentaires_RHF', 'Bouillons et potages_RHF'])]"
   ]
  },
  {
   "cell_type": "code",
   "execution_count": null,
   "metadata": {},
   "outputs": [],
   "source": [
    "a = df.Ingrédient[df.Ingrédient.str.contains(\":\")]\n"
   ]
  },
  {
   "cell_type": "code",
   "execution_count": null,
   "metadata": {},
   "outputs": [],
   "source": []
  },
  {
   "cell_type": "code",
   "execution_count": 52,
   "metadata": {},
   "outputs": [
    {
     "data": {
      "text/html": [
       "<div>\n",
       "<style scoped>\n",
       "    .dataframe tbody tr th:only-of-type {\n",
       "        vertical-align: middle;\n",
       "    }\n",
       "\n",
       "    .dataframe tbody tr th {\n",
       "        vertical-align: top;\n",
       "    }\n",
       "\n",
       "    .dataframe thead th {\n",
       "        text-align: right;\n",
       "    }\n",
       "</style>\n",
       "<table border=\"1\" class=\"dataframe\">\n",
       "  <thead>\n",
       "    <tr style=\"text-align: right;\">\n",
       "      <th></th>\n",
       "      <th>Code_produit</th>\n",
       "      <th>Secteur</th>\n",
       "      <th>Famille</th>\n",
       "      <th>Ingrédient</th>\n",
       "    </tr>\n",
       "  </thead>\n",
       "  <tbody>\n",
       "    <tr>\n",
       "      <th>0</th>\n",
       "      <td>450</td>\n",
       "      <td>Produits laitiers et desserts frais</td>\n",
       "      <td>Yaourts et laits fermentes sucres classiques</td>\n",
       "      <td>lait ecreme reconstitue</td>\n",
       "    </tr>\n",
       "    <tr>\n",
       "      <th>1</th>\n",
       "      <td>450</td>\n",
       "      <td>Produits laitiers et desserts frais</td>\n",
       "      <td>Yaourts et laits fermentes sucres classiques</td>\n",
       "      <td>sucre</td>\n",
       "    </tr>\n",
       "    <tr>\n",
       "      <th>2</th>\n",
       "      <td>450</td>\n",
       "      <td>Produits laitiers et desserts frais</td>\n",
       "      <td>Yaourts et laits fermentes sucres classiques</td>\n",
       "      <td>fruit : framboise</td>\n",
       "    </tr>\n",
       "    <tr>\n",
       "      <th>3</th>\n",
       "      <td>450</td>\n",
       "      <td>Produits laitiers et desserts frais</td>\n",
       "      <td>Yaourts et laits fermentes sucres classiques</td>\n",
       "      <td>creme</td>\n",
       "    </tr>\n",
       "    <tr>\n",
       "      <th>4</th>\n",
       "      <td>450</td>\n",
       "      <td>Produits laitiers et desserts frais</td>\n",
       "      <td>Yaourts et laits fermentes sucres classiques</td>\n",
       "      <td>epaississants : amidon transforme de mais, gom...</td>\n",
       "    </tr>\n",
       "  </tbody>\n",
       "</table>\n",
       "</div>"
      ],
      "text/plain": [
       "   Code_produit                              Secteur  \\\n",
       "0           450  Produits laitiers et desserts frais   \n",
       "1           450  Produits laitiers et desserts frais   \n",
       "2           450  Produits laitiers et desserts frais   \n",
       "3           450  Produits laitiers et desserts frais   \n",
       "4           450  Produits laitiers et desserts frais   \n",
       "\n",
       "                                        Famille  \\\n",
       "0  Yaourts et laits fermentes sucres classiques   \n",
       "1  Yaourts et laits fermentes sucres classiques   \n",
       "2  Yaourts et laits fermentes sucres classiques   \n",
       "3  Yaourts et laits fermentes sucres classiques   \n",
       "4  Yaourts et laits fermentes sucres classiques   \n",
       "\n",
       "                                          Ingrédient  \n",
       "0                            lait ecreme reconstitue  \n",
       "1                                              sucre  \n",
       "2                                  fruit : framboise  \n",
       "3                                              creme  \n",
       "4  epaississants : amidon transforme de mais, gom...  "
      ]
     },
     "execution_count": 52,
     "metadata": {},
     "output_type": "execute_result"
    }
   ],
   "source": [
    "df.head()"
   ]
  },
  {
   "cell_type": "code",
   "execution_count": 27,
   "metadata": {},
   "outputs": [],
   "source": [
    "\n"
   ]
  },
  {
   "cell_type": "code",
   "execution_count": 32,
   "metadata": {},
   "outputs": [
    {
     "name": "stderr",
     "output_type": "stream",
     "text": [
      "C:\\Users\\Thomas Aujoux\\AppData\\Local\\Temp\\ipykernel_7128\\764684360.py:12: SettingWithCopyWarning: \n",
      "A value is trying to be set on a copy of a slice from a DataFrame\n",
      "\n",
      "See the caveats in the documentation: https://pandas.pydata.org/pandas-docs/stable/user_guide/indexing.html#returning-a-view-versus-a-copy\n",
      "  df.Ingrédient[df.Ingrédient.str.contains(\"\\(\")] = df[df.Ingrédient.str.contains(\"\\(\")].Ingrédient.str.replace(r\"\\s\\(.*\\)\", \"\", regex=True)\n",
      "C:\\Users\\Thomas Aujoux\\AppData\\Local\\Temp\\ipykernel_7128\\764684360.py:13: SettingWithCopyWarning: \n",
      "A value is trying to be set on a copy of a slice from a DataFrame\n",
      "\n",
      "See the caveats in the documentation: https://pandas.pydata.org/pandas-docs/stable/user_guide/indexing.html#returning-a-view-versus-a-copy\n",
      "  df.Ingrédient[df.Ingrédient.str.contains(\"\\(\")] = df[df.Ingrédient.str.contains(\"\\(\")].Ingrédient.str.replace(r\"\\s\\(.*\\)\\s\", \" \", regex=True)\n",
      "C:\\Users\\Thomas Aujoux\\AppData\\Local\\Temp\\ipykernel_7128\\764684360.py:14: SettingWithCopyWarning: \n",
      "A value is trying to be set on a copy of a slice from a DataFrame\n",
      "\n",
      "See the caveats in the documentation: https://pandas.pydata.org/pandas-docs/stable/user_guide/indexing.html#returning-a-view-versus-a-copy\n",
      "  df.Ingrédient[df.Ingrédient.str.contains(\"\\(\")] = df[df.Ingrédient.str.contains(\"\\(\")].Ingrédient.str.replace(r\"\\(.*\\)\", \"\", regex=True)\n",
      "C:\\Users\\Thomas Aujoux\\AppData\\Local\\Temp\\ipykernel_7128\\764684360.py:15: SettingWithCopyWarning: \n",
      "A value is trying to be set on a copy of a slice from a DataFrame\n",
      "\n",
      "See the caveats in the documentation: https://pandas.pydata.org/pandas-docs/stable/user_guide/indexing.html#returning-a-view-versus-a-copy\n",
      "  df.Ingrédient[df.Ingrédient.str.contains(\"\\(\")] = df[df.Ingrédient.str.contains(\"\\(\")].Ingrédient.str.replace(r\"\\(.*\", \"\", regex=True)\n"
     ]
    }
   ],
   "source": [
    "def remove_colon(list):\n",
    "    n = len(list)\n",
    "    i = 1\n",
    "    colonfree = list[0]\n",
    "    while i < n and list[i] != \":\":\n",
    "        colonfree = colonfree + \" \" + list[i]\n",
    "        i = i + 1\n",
    "    return colonfree\n",
    "\n",
    "df.Ingrédient[df.Ingrédient.str.contains(\":\")] = df[df.Ingrédient.str.contains(\":\")].Ingrédient.str.split().map(lambda x:remove_colon(x))\n",
    "\n",
    "df.Ingrédient[df.Ingrédient.str.contains(\"\\(\")] = df[df.Ingrédient.str.contains(\"\\(\")].Ingrédient.str.replace(r\"\\s\\(.*\\)\", \"\", regex=True)\n",
    "df.Ingrédient[df.Ingrédient.str.contains(\"\\(\")] = df[df.Ingrédient.str.contains(\"\\(\")].Ingrédient.str.replace(r\"\\s\\(.*\\)\\s\", \" \", regex=True)\n",
    "df.Ingrédient[df.Ingrédient.str.contains(\"\\(\")] = df[df.Ingrédient.str.contains(\"\\(\")].Ingrédient.str.replace(r\"\\(.*\\)\", \"\", regex=True)\n",
    "df.Ingrédient[df.Ingrédient.str.contains(\"\\(\")] = df[df.Ingrédient.str.contains(\"\\(\")].Ingrédient.str.replace(r\"\\(.*\", \"\", regex=True)\n",
    "df.Ingrédient = df[\"Ingrédient\"].apply(lambda x: x.rstrip())\n",
    "df.Ingrédient = df[\"Ingrédient\"].apply(lambda x: x.lstrip())\n",
    "df = df[df.duplicated(subset=['Ingrédient'], keep=False)]\n",
    "df['Ingrédient'] = df['Ingrédient'].apply(lambda x : x.replace('_',' '))"
   ]
  },
  {
   "cell_type": "code",
   "execution_count": 33,
   "metadata": {},
   "outputs": [
    {
     "data": {
      "text/html": [
       "<div>\n",
       "<style scoped>\n",
       "    .dataframe tbody tr th:only-of-type {\n",
       "        vertical-align: middle;\n",
       "    }\n",
       "\n",
       "    .dataframe tbody tr th {\n",
       "        vertical-align: top;\n",
       "    }\n",
       "\n",
       "    .dataframe thead th {\n",
       "        text-align: right;\n",
       "    }\n",
       "</style>\n",
       "<table border=\"1\" class=\"dataframe\">\n",
       "  <thead>\n",
       "    <tr style=\"text-align: right;\">\n",
       "      <th></th>\n",
       "      <th>Code_produit</th>\n",
       "      <th>Secteur</th>\n",
       "      <th>Famille</th>\n",
       "      <th>Ingrédient</th>\n",
       "    </tr>\n",
       "  </thead>\n",
       "  <tbody>\n",
       "    <tr>\n",
       "      <th>0</th>\n",
       "      <td>450</td>\n",
       "      <td>Produits laitiers et desserts frais</td>\n",
       "      <td>Yaourts et laits fermentes sucres classiques</td>\n",
       "      <td>lait ecreme reconstitue</td>\n",
       "    </tr>\n",
       "    <tr>\n",
       "      <th>1</th>\n",
       "      <td>450</td>\n",
       "      <td>Produits laitiers et desserts frais</td>\n",
       "      <td>Yaourts et laits fermentes sucres classiques</td>\n",
       "      <td>sucre</td>\n",
       "    </tr>\n",
       "    <tr>\n",
       "      <th>2</th>\n",
       "      <td>450</td>\n",
       "      <td>Produits laitiers et desserts frais</td>\n",
       "      <td>Yaourts et laits fermentes sucres classiques</td>\n",
       "      <td>fruit</td>\n",
       "    </tr>\n",
       "    <tr>\n",
       "      <th>3</th>\n",
       "      <td>450</td>\n",
       "      <td>Produits laitiers et desserts frais</td>\n",
       "      <td>Yaourts et laits fermentes sucres classiques</td>\n",
       "      <td>creme</td>\n",
       "    </tr>\n",
       "    <tr>\n",
       "      <th>4</th>\n",
       "      <td>450</td>\n",
       "      <td>Produits laitiers et desserts frais</td>\n",
       "      <td>Yaourts et laits fermentes sucres classiques</td>\n",
       "      <td>epaississants</td>\n",
       "    </tr>\n",
       "  </tbody>\n",
       "</table>\n",
       "</div>"
      ],
      "text/plain": [
       "   Code_produit                              Secteur  \\\n",
       "0           450  Produits laitiers et desserts frais   \n",
       "1           450  Produits laitiers et desserts frais   \n",
       "2           450  Produits laitiers et desserts frais   \n",
       "3           450  Produits laitiers et desserts frais   \n",
       "4           450  Produits laitiers et desserts frais   \n",
       "\n",
       "                                        Famille               Ingrédient  \n",
       "0  Yaourts et laits fermentes sucres classiques  lait ecreme reconstitue  \n",
       "1  Yaourts et laits fermentes sucres classiques                    sucre  \n",
       "2  Yaourts et laits fermentes sucres classiques                    fruit  \n",
       "3  Yaourts et laits fermentes sucres classiques                    creme  \n",
       "4  Yaourts et laits fermentes sucres classiques            epaississants  "
      ]
     },
     "execution_count": 33,
     "metadata": {},
     "output_type": "execute_result"
    }
   ],
   "source": [
    "df.head()"
   ]
  },
  {
   "cell_type": "code",
   "execution_count": 54,
   "metadata": {},
   "outputs": [
    {
     "data": {
      "text/plain": [
       "'!\"#$%&\\'()*+,-./:;<=>?@[\\\\]^_`{|}~12345678901234567890123456789012345678901234567890'"
      ]
     },
     "execution_count": 54,
     "metadata": {},
     "output_type": "execute_result"
    }
   ],
   "source": [
    "import string\n",
    "string.punctuation\n",
    "list_punctuation = '!\"#$%&\\'()*+,-./:;<=>?@[\\\\]^_`{|}~1234567890'"
   ]
  },
  {
   "cell_type": "code",
   "execution_count": 34,
   "metadata": {},
   "outputs": [
    {
     "data": {
      "text/html": [
       "<div>\n",
       "<style scoped>\n",
       "    .dataframe tbody tr th:only-of-type {\n",
       "        vertical-align: middle;\n",
       "    }\n",
       "\n",
       "    .dataframe tbody tr th {\n",
       "        vertical-align: top;\n",
       "    }\n",
       "\n",
       "    .dataframe thead th {\n",
       "        text-align: right;\n",
       "    }\n",
       "</style>\n",
       "<table border=\"1\" class=\"dataframe\">\n",
       "  <thead>\n",
       "    <tr style=\"text-align: right;\">\n",
       "      <th></th>\n",
       "      <th>Code_produit</th>\n",
       "      <th>Secteur</th>\n",
       "      <th>Famille</th>\n",
       "      <th>Ingrédient</th>\n",
       "      <th>clean_msg</th>\n",
       "    </tr>\n",
       "  </thead>\n",
       "  <tbody>\n",
       "    <tr>\n",
       "      <th>0</th>\n",
       "      <td>450</td>\n",
       "      <td>Produits laitiers et desserts frais</td>\n",
       "      <td>Yaourts et laits fermentes sucres classiques</td>\n",
       "      <td>lait ecreme reconstitue</td>\n",
       "      <td>lait ecreme reconstitue</td>\n",
       "    </tr>\n",
       "    <tr>\n",
       "      <th>1</th>\n",
       "      <td>450</td>\n",
       "      <td>Produits laitiers et desserts frais</td>\n",
       "      <td>Yaourts et laits fermentes sucres classiques</td>\n",
       "      <td>sucre</td>\n",
       "      <td>sucre</td>\n",
       "    </tr>\n",
       "    <tr>\n",
       "      <th>2</th>\n",
       "      <td>450</td>\n",
       "      <td>Produits laitiers et desserts frais</td>\n",
       "      <td>Yaourts et laits fermentes sucres classiques</td>\n",
       "      <td>fruit</td>\n",
       "      <td>fruit</td>\n",
       "    </tr>\n",
       "    <tr>\n",
       "      <th>3</th>\n",
       "      <td>450</td>\n",
       "      <td>Produits laitiers et desserts frais</td>\n",
       "      <td>Yaourts et laits fermentes sucres classiques</td>\n",
       "      <td>creme</td>\n",
       "      <td>creme</td>\n",
       "    </tr>\n",
       "    <tr>\n",
       "      <th>4</th>\n",
       "      <td>450</td>\n",
       "      <td>Produits laitiers et desserts frais</td>\n",
       "      <td>Yaourts et laits fermentes sucres classiques</td>\n",
       "      <td>epaississants</td>\n",
       "      <td>epaississants</td>\n",
       "    </tr>\n",
       "  </tbody>\n",
       "</table>\n",
       "</div>"
      ],
      "text/plain": [
       "   Code_produit                              Secteur  \\\n",
       "0           450  Produits laitiers et desserts frais   \n",
       "1           450  Produits laitiers et desserts frais   \n",
       "2           450  Produits laitiers et desserts frais   \n",
       "3           450  Produits laitiers et desserts frais   \n",
       "4           450  Produits laitiers et desserts frais   \n",
       "\n",
       "                                        Famille               Ingrédient  \\\n",
       "0  Yaourts et laits fermentes sucres classiques  lait ecreme reconstitue   \n",
       "1  Yaourts et laits fermentes sucres classiques                    sucre   \n",
       "2  Yaourts et laits fermentes sucres classiques                    fruit   \n",
       "3  Yaourts et laits fermentes sucres classiques                    creme   \n",
       "4  Yaourts et laits fermentes sucres classiques            epaississants   \n",
       "\n",
       "                 clean_msg  \n",
       "0  lait ecreme reconstitue  \n",
       "1                    sucre  \n",
       "2                    fruit  \n",
       "3                    creme  \n",
       "4            epaississants  "
      ]
     },
     "execution_count": 34,
     "metadata": {},
     "output_type": "execute_result"
    }
   ],
   "source": [
    "#library that contains punctuation\n",
    "import string\n",
    "string.punctuation\n",
    "string.punctuation = string.punctuation + '1234567890'\n",
    "list_punctuation = '!\"#$%&\\'()*+,-./:;<=>?@[\\\\]^_`{|}~1234567890'\n",
    "#defining the function to remove punctuation\n",
    "def remove_punctuation(text):\n",
    "    punctuationfree=\"\".join([i for i in text if i not in list_punctuation])\n",
    "    return punctuationfree\n",
    "\n",
    "#storing the puntuation free text\n",
    "df['clean_msg']= df['Ingrédient'].apply(lambda x:remove_punctuation(x))\n",
    "df.head()"
   ]
  },
  {
   "cell_type": "code",
   "execution_count": 35,
   "metadata": {},
   "outputs": [],
   "source": [
    "df['msg_lower']= df['clean_msg'].apply(lambda x: x.lower())\n",
    "df = df.groupby(['Code_produit', 'Secteur'])['msg_lower'].agg(lambda col: ' '.join(col)).reset_index(name='msg_lower')"
   ]
  },
  {
   "cell_type": "code",
   "execution_count": 63,
   "metadata": {},
   "outputs": [
    {
     "data": {
      "text/html": [
       "<div>\n",
       "<style scoped>\n",
       "    .dataframe tbody tr th:only-of-type {\n",
       "        vertical-align: middle;\n",
       "    }\n",
       "\n",
       "    .dataframe tbody tr th {\n",
       "        vertical-align: top;\n",
       "    }\n",
       "\n",
       "    .dataframe thead th {\n",
       "        text-align: right;\n",
       "    }\n",
       "</style>\n",
       "<table border=\"1\" class=\"dataframe\">\n",
       "  <thead>\n",
       "    <tr style=\"text-align: right;\">\n",
       "      <th></th>\n",
       "      <th>Code_produit</th>\n",
       "      <th>Secteur</th>\n",
       "      <th>msg_lower</th>\n",
       "      <th>msg_tokenied</th>\n",
       "    </tr>\n",
       "  </thead>\n",
       "  <tbody>\n",
       "    <tr>\n",
       "      <th>0</th>\n",
       "      <td>450</td>\n",
       "      <td>Produits laitiers et desserts frais</td>\n",
       "      <td>lait ecreme reconstitue sucre fruit creme epai...</td>\n",
       "      <td>[lait, ecreme, reconstitue, sucre, fruit, crem...</td>\n",
       "    </tr>\n",
       "    <tr>\n",
       "      <th>1</th>\n",
       "      <td>453</td>\n",
       "      <td>Produits laitiers et desserts frais</td>\n",
       "      <td>yaourt au lait partiellement ecreme sucre siro...</td>\n",
       "      <td>[yaourt, au, lait, partiellement, ecreme, sucr...</td>\n",
       "    </tr>\n",
       "    <tr>\n",
       "      <th>2</th>\n",
       "      <td>455</td>\n",
       "      <td>Produits laitiers et desserts frais</td>\n",
       "      <td>yaourt au lait  mg sucre fruits fruit fruit fr...</td>\n",
       "      <td>[yaourt, au, lait, , mg, sucre, fruits, fruit,...</td>\n",
       "    </tr>\n",
       "    <tr>\n",
       "      <th>3</th>\n",
       "      <td>456</td>\n",
       "      <td>Produits laitiers et desserts frais</td>\n",
       "      <td>yaourt au lait  mg sucre fraise fructose conce...</td>\n",
       "      <td>[yaourt, au, lait, , mg, sucre, fraise, fructo...</td>\n",
       "    </tr>\n",
       "    <tr>\n",
       "      <th>4</th>\n",
       "      <td>460</td>\n",
       "      <td>Produits laitiers et desserts frais</td>\n",
       "      <td>lait ecreme pasteurise creme pasteurisee ferme...</td>\n",
       "      <td>[lait, ecreme, pasteurise, creme, pasteurisee,...</td>\n",
       "    </tr>\n",
       "  </tbody>\n",
       "</table>\n",
       "</div>"
      ],
      "text/plain": [
       "   Code_produit                              Secteur  \\\n",
       "0           450  Produits laitiers et desserts frais   \n",
       "1           453  Produits laitiers et desserts frais   \n",
       "2           455  Produits laitiers et desserts frais   \n",
       "3           456  Produits laitiers et desserts frais   \n",
       "4           460  Produits laitiers et desserts frais   \n",
       "\n",
       "                                           msg_lower  \\\n",
       "0  lait ecreme reconstitue sucre fruit creme epai...   \n",
       "1  yaourt au lait partiellement ecreme sucre siro...   \n",
       "2  yaourt au lait  mg sucre fruits fruit fruit fr...   \n",
       "3  yaourt au lait  mg sucre fraise fructose conce...   \n",
       "4  lait ecreme pasteurise creme pasteurisee ferme...   \n",
       "\n",
       "                                        msg_tokenied  \n",
       "0  [lait, ecreme, reconstitue, sucre, fruit, crem...  \n",
       "1  [yaourt, au, lait, partiellement, ecreme, sucr...  \n",
       "2  [yaourt, au, lait, , mg, sucre, fruits, fruit,...  \n",
       "3  [yaourt, au, lait, , mg, sucre, fraise, fructo...  \n",
       "4  [lait, ecreme, pasteurise, creme, pasteurisee,...  "
      ]
     },
     "execution_count": 63,
     "metadata": {},
     "output_type": "execute_result"
    }
   ],
   "source": [
    "df.head()"
   ]
  },
  {
   "cell_type": "code",
   "execution_count": 36,
   "metadata": {},
   "outputs": [],
   "source": [
    "#defining function for tokenization\n",
    "import re\n",
    "def tokenization(text):\n",
    "    tokens = text.split(sep = ' ')\n",
    "    return tokens\n",
    "#applying function to the column\n",
    "df['msg_tokenied']= df['msg_lower'].apply(lambda x: tokenization(x))"
   ]
  },
  {
   "cell_type": "code",
   "execution_count": 46,
   "metadata": {},
   "outputs": [],
   "source": [
    "text = 'lait ecreme reconstitue sucre fruit creme epaississants epaississant epaississant colorant mineraux du lait jus concentre de sureau aromes ferments lactiques du yaourt vitamine b vitamine b vitamine d'\n",
    "tokens = re.split('W+',text)"
   ]
  },
  {
   "cell_type": "code",
   "execution_count": 64,
   "metadata": {},
   "outputs": [
    {
     "data": {
      "text/html": [
       "<div>\n",
       "<style scoped>\n",
       "    .dataframe tbody tr th:only-of-type {\n",
       "        vertical-align: middle;\n",
       "    }\n",
       "\n",
       "    .dataframe tbody tr th {\n",
       "        vertical-align: top;\n",
       "    }\n",
       "\n",
       "    .dataframe thead th {\n",
       "        text-align: right;\n",
       "    }\n",
       "</style>\n",
       "<table border=\"1\" class=\"dataframe\">\n",
       "  <thead>\n",
       "    <tr style=\"text-align: right;\">\n",
       "      <th></th>\n",
       "      <th>Code_produit</th>\n",
       "      <th>Secteur</th>\n",
       "      <th>msg_lower</th>\n",
       "      <th>msg_tokenied</th>\n",
       "    </tr>\n",
       "  </thead>\n",
       "  <tbody>\n",
       "    <tr>\n",
       "      <th>0</th>\n",
       "      <td>450</td>\n",
       "      <td>Produits laitiers et desserts frais</td>\n",
       "      <td>lait ecreme reconstitue sucre fruit creme epai...</td>\n",
       "      <td>[lait, ecreme, reconstitue, sucre, fruit, crem...</td>\n",
       "    </tr>\n",
       "    <tr>\n",
       "      <th>1</th>\n",
       "      <td>453</td>\n",
       "      <td>Produits laitiers et desserts frais</td>\n",
       "      <td>yaourt au lait partiellement ecreme sucre siro...</td>\n",
       "      <td>[yaourt, au, lait, partiellement, ecreme, sucr...</td>\n",
       "    </tr>\n",
       "    <tr>\n",
       "      <th>2</th>\n",
       "      <td>455</td>\n",
       "      <td>Produits laitiers et desserts frais</td>\n",
       "      <td>yaourt au lait  mg sucre fruits fruit fruit fr...</td>\n",
       "      <td>[yaourt, au, lait, , mg, sucre, fruits, fruit,...</td>\n",
       "    </tr>\n",
       "    <tr>\n",
       "      <th>3</th>\n",
       "      <td>456</td>\n",
       "      <td>Produits laitiers et desserts frais</td>\n",
       "      <td>yaourt au lait  mg sucre fraise fructose conce...</td>\n",
       "      <td>[yaourt, au, lait, , mg, sucre, fraise, fructo...</td>\n",
       "    </tr>\n",
       "    <tr>\n",
       "      <th>4</th>\n",
       "      <td>460</td>\n",
       "      <td>Produits laitiers et desserts frais</td>\n",
       "      <td>lait ecreme pasteurise creme pasteurisee ferme...</td>\n",
       "      <td>[lait, ecreme, pasteurise, creme, pasteurisee,...</td>\n",
       "    </tr>\n",
       "  </tbody>\n",
       "</table>\n",
       "</div>"
      ],
      "text/plain": [
       "   Code_produit                              Secteur  \\\n",
       "0           450  Produits laitiers et desserts frais   \n",
       "1           453  Produits laitiers et desserts frais   \n",
       "2           455  Produits laitiers et desserts frais   \n",
       "3           456  Produits laitiers et desserts frais   \n",
       "4           460  Produits laitiers et desserts frais   \n",
       "\n",
       "                                           msg_lower  \\\n",
       "0  lait ecreme reconstitue sucre fruit creme epai...   \n",
       "1  yaourt au lait partiellement ecreme sucre siro...   \n",
       "2  yaourt au lait  mg sucre fruits fruit fruit fr...   \n",
       "3  yaourt au lait  mg sucre fraise fructose conce...   \n",
       "4  lait ecreme pasteurise creme pasteurisee ferme...   \n",
       "\n",
       "                                        msg_tokenied  \n",
       "0  [lait, ecreme, reconstitue, sucre, fruit, crem...  \n",
       "1  [yaourt, au, lait, partiellement, ecreme, sucr...  \n",
       "2  [yaourt, au, lait, , mg, sucre, fruits, fruit,...  \n",
       "3  [yaourt, au, lait, , mg, sucre, fraise, fructo...  \n",
       "4  [lait, ecreme, pasteurise, creme, pasteurisee,...  "
      ]
     },
     "execution_count": 64,
     "metadata": {},
     "output_type": "execute_result"
    }
   ],
   "source": [
    "df.head()"
   ]
  },
  {
   "cell_type": "code",
   "execution_count": 40,
   "metadata": {},
   "outputs": [
    {
     "data": {
      "text/plain": [
       "['au',\n",
       " 'aux',\n",
       " 'avec',\n",
       " 'ce',\n",
       " 'ces',\n",
       " 'dans',\n",
       " 'de',\n",
       " 'des',\n",
       " 'du',\n",
       " 'elle',\n",
       " 'en',\n",
       " 'et',\n",
       " 'eux',\n",
       " 'il',\n",
       " 'ils',\n",
       " 'je',\n",
       " 'la',\n",
       " 'le',\n",
       " 'les',\n",
       " 'leur',\n",
       " 'lui',\n",
       " 'ma',\n",
       " 'mais',\n",
       " 'me',\n",
       " 'même',\n",
       " 'mes',\n",
       " 'moi',\n",
       " 'mon',\n",
       " 'ne',\n",
       " 'nos',\n",
       " 'notre',\n",
       " 'nous',\n",
       " 'on',\n",
       " 'ou',\n",
       " 'par',\n",
       " 'pas',\n",
       " 'pour',\n",
       " 'qu',\n",
       " 'que',\n",
       " 'qui',\n",
       " 'sa',\n",
       " 'se',\n",
       " 'ses',\n",
       " 'son',\n",
       " 'sur',\n",
       " 'ta',\n",
       " 'te',\n",
       " 'tes',\n",
       " 'toi',\n",
       " 'ton',\n",
       " 'tu',\n",
       " 'un',\n",
       " 'une',\n",
       " 'vos',\n",
       " 'votre',\n",
       " 'vous',\n",
       " 'c',\n",
       " 'd',\n",
       " 'j',\n",
       " 'l',\n",
       " 'à',\n",
       " 'm',\n",
       " 'n',\n",
       " 's',\n",
       " 't',\n",
       " 'y',\n",
       " 'été',\n",
       " 'étée',\n",
       " 'étées',\n",
       " 'étés',\n",
       " 'étant',\n",
       " 'étante',\n",
       " 'étants',\n",
       " 'étantes',\n",
       " 'suis',\n",
       " 'es',\n",
       " 'est',\n",
       " 'sommes',\n",
       " 'êtes',\n",
       " 'sont',\n",
       " 'serai',\n",
       " 'seras',\n",
       " 'sera',\n",
       " 'serons',\n",
       " 'serez',\n",
       " 'seront',\n",
       " 'serais',\n",
       " 'serait',\n",
       " 'serions',\n",
       " 'seriez',\n",
       " 'seraient',\n",
       " 'étais',\n",
       " 'était',\n",
       " 'étions',\n",
       " 'étiez',\n",
       " 'étaient',\n",
       " 'fus',\n",
       " 'fut',\n",
       " 'fûmes',\n",
       " 'fûtes',\n",
       " 'furent',\n",
       " 'sois',\n",
       " 'soit',\n",
       " 'soyons',\n",
       " 'soyez',\n",
       " 'soient',\n",
       " 'fusse',\n",
       " 'fusses',\n",
       " 'fût',\n",
       " 'fussions',\n",
       " 'fussiez',\n",
       " 'fussent',\n",
       " 'ayant',\n",
       " 'ayante',\n",
       " 'ayantes',\n",
       " 'ayants',\n",
       " 'eu',\n",
       " 'eue',\n",
       " 'eues',\n",
       " 'eus',\n",
       " 'ai',\n",
       " 'as',\n",
       " 'avons',\n",
       " 'avez',\n",
       " 'ont',\n",
       " 'aurai',\n",
       " 'auras',\n",
       " 'aura',\n",
       " 'aurons',\n",
       " 'aurez',\n",
       " 'auront',\n",
       " 'aurais',\n",
       " 'aurait',\n",
       " 'aurions',\n",
       " 'auriez',\n",
       " 'auraient',\n",
       " 'avais',\n",
       " 'avait',\n",
       " 'avions',\n",
       " 'aviez',\n",
       " 'avaient',\n",
       " 'eut',\n",
       " 'eûmes',\n",
       " 'eûtes',\n",
       " 'eurent',\n",
       " 'aie',\n",
       " 'aies',\n",
       " 'ait',\n",
       " 'ayons',\n",
       " 'ayez',\n",
       " 'aient',\n",
       " 'eusse',\n",
       " 'eusses',\n",
       " 'eût',\n",
       " 'eussions',\n",
       " 'eussiez',\n",
       " 'eussent',\n",
       " 'a',\n",
       " 'mg']"
      ]
     },
     "execution_count": 40,
     "metadata": {},
     "output_type": "execute_result"
    }
   ],
   "source": [
    "#importing nlp library\n",
    "import nltk\n",
    "#Stop words present in the library\n",
    "stopwords = nltk.corpus.stopwords.words('french')\n",
    "stopwords.append(\"a\")\n",
    "stopwords.append(\"mg\")\n",
    "stopwords"
   ]
  },
  {
   "cell_type": "code",
   "execution_count": 41,
   "metadata": {},
   "outputs": [],
   "source": [
    "\n",
    "\n",
    "#defining the function to remove stopwords from tokenized text\n",
    "def remove_stopwords(text):\n",
    "    output= [i for i in text if i not in stopwords]\n",
    "    return output\n",
    "\n",
    "#applying the function\n",
    "df['no_stopwords']= df['msg_tokenied'].apply(lambda x:remove_stopwords(x))"
   ]
  },
  {
   "cell_type": "code",
   "execution_count": 42,
   "metadata": {},
   "outputs": [
    {
     "name": "stderr",
     "output_type": "stream",
     "text": [
      "[nltk_data] Downloading package wordnet to C:\\Users\\Thomas\n",
      "[nltk_data]     Aujoux\\AppData\\Roaming\\nltk_data...\n",
      "[nltk_data]   Package wordnet is already up-to-date!\n",
      "[nltk_data] Downloading package punkt to C:\\Users\\Thomas\n",
      "[nltk_data]     Aujoux\\AppData\\Roaming\\nltk_data...\n",
      "[nltk_data]   Package punkt is already up-to-date!\n",
      "[nltk_data] Downloading package stopwords to C:\\Users\\Thomas\n",
      "[nltk_data]     Aujoux\\AppData\\Roaming\\nltk_data...\n",
      "[nltk_data]   Package stopwords is already up-to-date!\n"
     ]
    },
    {
     "data": {
      "text/plain": [
       "True"
      ]
     },
     "execution_count": 42,
     "metadata": {},
     "output_type": "execute_result"
    }
   ],
   "source": [
    "import nltk\n",
    "import string\n",
    "from french_lefff_lemmatizer.french_lefff_lemmatizer import FrenchLefffLemmatizer\n",
    "\n",
    "nltk.download('wordnet')\n",
    "nltk.download('punkt')\n",
    "nltk.download('stopwords')"
   ]
  },
  {
   "cell_type": "code",
   "execution_count": 69,
   "metadata": {},
   "outputs": [],
   "source": [
    "\n",
    "lemmatizer = FrenchLefffLemmatizer()\n",
    "\n",
    "def preprocess_text(test):\n",
    "    a = len(df)\n",
    "    for i in range(len(df)):\n",
    "        for j in range(len(df.iloc[i, 2])):\n",
    "            df.iloc[i, 2][j] = lemmatizer.lemmatize(df.iloc[i, 2][j])\n",
    "            if len(df.iloc[i, 2][j])<=2 :\n",
    "                df.iloc[i, 2][j] = \"\"\n",
    "            if len(df.iloc[i, 2][j])>3 and df.iloc[i, 2][j][-3 :] == \"ees\":\n",
    "                df.iloc[i, 2][j] = df.iloc[i, 2][j][:-2]\n",
    "            if len(df.iloc[i, 2][j])>3 and df.iloc[i, 2][j][-1] == \"s\":\n",
    "                df.iloc[i, 2][j] = df.iloc[i, 2][j][:-1]\n",
    "            if len(df.iloc[i, 2][j])>3 and df.iloc[i, 2][j][-2 :] == \"ee\":\n",
    "                df.iloc[i, 2][j] = df.iloc[i, 2][j][:-1]\n",
    "    return df\n",
    "            \n"
   ]
  },
  {
   "cell_type": "code",
   "execution_count": 68,
   "metadata": {},
   "outputs": [
    {
     "data": {
      "text/plain": [
       "2"
      ]
     },
     "execution_count": 68,
     "metadata": {},
     "output_type": "execute_result"
    }
   ],
   "source": [
    "len(\"dd\")"
   ]
  },
  {
   "cell_type": "code",
   "execution_count": 117,
   "metadata": {},
   "outputs": [
    {
     "data": {
      "text/plain": [
       "'fruit'"
      ]
     },
     "execution_count": 117,
     "metadata": {},
     "output_type": "execute_result"
    }
   ],
   "source": [
    "lemmatizer.lemmatize(\"fruits\")"
   ]
  },
  {
   "cell_type": "code",
   "execution_count": 70,
   "metadata": {},
   "outputs": [],
   "source": [
    "df = preprocess_text(df)"
   ]
  },
  {
   "cell_type": "code",
   "execution_count": 105,
   "metadata": {},
   "outputs": [
    {
     "data": {
      "text/plain": [
       "'lait'"
      ]
     },
     "execution_count": 105,
     "metadata": {},
     "output_type": "execute_result"
    }
   ],
   "source": [
    "df.iloc[2,2][1]"
   ]
  },
  {
   "cell_type": "code",
   "execution_count": 55,
   "metadata": {},
   "outputs": [
    {
     "data": {
      "text/plain": [
       "'noire'"
      ]
     },
     "execution_count": 55,
     "metadata": {},
     "output_type": "execute_result"
    }
   ],
   "source": [
    "lemmatizer.lemmatize(\"noire\")"
   ]
  },
  {
   "cell_type": "code",
   "execution_count": 50,
   "metadata": {},
   "outputs": [],
   "source": [
    "df = df[[\"Code_produit\", \"Secteur\", \"no_stopwords\"]]"
   ]
  },
  {
   "cell_type": "code",
   "execution_count": 71,
   "metadata": {},
   "outputs": [],
   "source": [
    "from sklearn.feature_extraction.text import CountVectorizer\n",
    "coun_vect = CountVectorizer(analyzer=lambda x: x)\n",
    "count_matrix = coun_vect.fit_transform(df[\"no_stopwords\"])\n",
    "count_array = count_matrix.toarray()\n",
    "df_vect = pd.DataFrame(data=count_array,columns = coun_vect.get_feature_names_out())\n",
    "new_df = pd.concat([df[[\"Code_produit\", \"Secteur\"]], df_vect], axis=1)"
   ]
  },
  {
   "cell_type": "code",
   "execution_count": 72,
   "metadata": {},
   "outputs": [],
   "source": [
    "a = new_df.columns.values"
   ]
  },
  {
   "cell_type": "code",
   "execution_count": 75,
   "metadata": {},
   "outputs": [],
   "source": [
    "new_df.to_csv(r'C:\\Users\\Thomas Aujoux\\Documents\\GitHub\\food-classification\\data_preparation\\clean.csv')"
   ]
  },
  {
   "cell_type": "code",
   "execution_count": 64,
   "metadata": {},
   "outputs": [
    {
     "data": {
      "text/plain": [
       "'sd'"
      ]
     },
     "execution_count": 64,
     "metadata": {},
     "output_type": "execute_result"
    }
   ],
   "source": [
    "f = \"sdfdsfsd\"\n",
    "f[-2 : ]"
   ]
  }
 ],
 "metadata": {
  "kernelspec": {
   "display_name": "Python 3",
   "language": "python",
   "name": "python3"
  },
  "language_info": {
   "codemirror_mode": {
    "name": "ipython",
    "version": 3
   },
   "file_extension": ".py",
   "mimetype": "text/x-python",
   "name": "python",
   "nbconvert_exporter": "python",
   "pygments_lexer": "ipython3",
   "version": "3.11.3"
  },
  "orig_nbformat": 4
 },
 "nbformat": 4,
 "nbformat_minor": 2
}
