{
 "cells": [
  {
   "cell_type": "markdown",
   "metadata": {},
   "source": [
    "# Data Pre-Processing"
   ]
  },
  {
   "cell_type": "markdown",
   "metadata": {},
   "source": [
    "1. Present where we can find the data\n",
    "2. Discuss the different variables we can use for this project\n",
    "3. Process the data for the next part\n",
    "4. Create the different data set  "
   ]
  },
  {
   "cell_type": "markdown",
   "metadata": {},
   "source": [
    "## I) Where can we find the data"
   ]
  },
  {
   "cell_type": "markdown",
   "metadata": {},
   "source": [
    "The dataset can be find on the website of Oqali"
   ]
  },
  {
   "cell_type": "markdown",
   "metadata": {},
   "source": [
    "## II) The features"
   ]
  },
  {
   "cell_type": "markdown",
   "metadata": {},
   "source": [
    "- The data from the Web-Scraping\n",
    "\n",
    "**Nom**: The name of the article, examples : \"VITTEL Eau minérale naturelle plate 50cl\", \"SENSEO Dosettes de café classique 54 dosettes 375g\"\n",
    "\n",
    "**Conservation**: How the product can be conservated, examples : \"Consommez les dosettes de café SENSEO de préférence dans les 2 à 3 semaines après l'ouverture et conservez-les dans une boîte fermée dans un endroit frais\"\n",
    "\n",
    "**Valeurs nutritionelles**: \n",
    "\n",
    "**Ingrédients** : The composition of the article\n",
    "\n",
    "**Dénomination légale de vente**: \n",
    "\n",
    "- The data from Oqali :\n",
    "\n",
    "**Nom du produit**:\n",
    "\n",
    "**Dénomination de vente**:\n",
    "\n",
    "**Mode de conservation**:\n",
    "\n",
    "**Valeurs nutritionnelles**:\n",
    "\n",
    "**Ingrédients**: \n"
   ]
  },
  {
   "cell_type": "markdown",
   "metadata": {},
   "source": [
    "## II) NLP Data Processing"
   ]
  },
  {
   "cell_type": "markdown",
   "metadata": {},
   "source": [
    "### 1) Ingredients"
   ]
  },
  {
   "cell_type": "markdown",
   "metadata": {},
   "source": [
    "This part can be challenging, this first thing is that they are a lot of different words and some can be useless for our machine learning algortihm. The other thing is that with the data imported from the web scraping the words can be slightly different, so they won't match with our data set."
   ]
  },
  {
   "cell_type": "markdown",
   "metadata": {},
   "source": [
    "For the first step, we import the data and keep only the features of interest."
   ]
  },
  {
   "cell_type": "code",
   "execution_count": 14,
   "metadata": {},
   "outputs": [
    {
     "name": "stderr",
     "output_type": "stream",
     "text": [
      "C:\\Users\\Thomas Aujoux\\AppData\\Local\\Temp\\ipykernel_15816\\3188806925.py:3: DtypeWarning: Columns (4,5,6,17) have mixed types. Specify dtype option on import or set low_memory=False.\n",
      "  df = pd.read_csv(r'C:\\Users\\Thomas Aujoux\\Documents\\GitHub\\food-classification\\data_preparation\\ingredients.csv', dtype={'Code produit': int, 'Secteur': str, \"Famille\": str, \"Ingrédient\": str}, sep=';')\n"
     ]
    }
   ],
   "source": [
    "import pandas as pd\n",
    "import numpy as np\n",
    "df = pd.read_csv(r'C:\\Users\\Thomas Aujoux\\Documents\\GitHub\\food-classification\\data_preparation\\ingredients.csv', dtype={'Code produit': int, 'Secteur': str, \"Famille\": str, \"Ingrédient\": str}, sep=';')\n",
    "df = df[[\"Code produit\", \"Secteur\", \"Famille\", \"Ingrédient\"]]\n",
    "df = df.rename(columns={ 'Code produit': 'Code_produit' })\n"
   ]
  },
  {
   "cell_type": "code",
   "execution_count": 15,
   "metadata": {},
   "outputs": [
    {
     "data": {
      "text/html": [
       "<div>\n",
       "<style scoped>\n",
       "    .dataframe tbody tr th:only-of-type {\n",
       "        vertical-align: middle;\n",
       "    }\n",
       "\n",
       "    .dataframe tbody tr th {\n",
       "        vertical-align: top;\n",
       "    }\n",
       "\n",
       "    .dataframe thead th {\n",
       "        text-align: right;\n",
       "    }\n",
       "</style>\n",
       "<table border=\"1\" class=\"dataframe\">\n",
       "  <thead>\n",
       "    <tr style=\"text-align: right;\">\n",
       "      <th></th>\n",
       "      <th>Code_produit</th>\n",
       "      <th>Secteur</th>\n",
       "      <th>Famille</th>\n",
       "      <th>Ingrédient</th>\n",
       "    </tr>\n",
       "  </thead>\n",
       "  <tbody>\n",
       "    <tr>\n",
       "      <th>0</th>\n",
       "      <td>450</td>\n",
       "      <td>Produits laitiers et desserts frais</td>\n",
       "      <td>Yaourts et laits fermentes sucres classiques</td>\n",
       "      <td>lait ecreme reconstitue</td>\n",
       "    </tr>\n",
       "    <tr>\n",
       "      <th>1</th>\n",
       "      <td>450</td>\n",
       "      <td>Produits laitiers et desserts frais</td>\n",
       "      <td>Yaourts et laits fermentes sucres classiques</td>\n",
       "      <td>sucre</td>\n",
       "    </tr>\n",
       "    <tr>\n",
       "      <th>2</th>\n",
       "      <td>450</td>\n",
       "      <td>Produits laitiers et desserts frais</td>\n",
       "      <td>Yaourts et laits fermentes sucres classiques</td>\n",
       "      <td>fruit : framboise</td>\n",
       "    </tr>\n",
       "    <tr>\n",
       "      <th>3</th>\n",
       "      <td>450</td>\n",
       "      <td>Produits laitiers et desserts frais</td>\n",
       "      <td>Yaourts et laits fermentes sucres classiques</td>\n",
       "      <td>creme</td>\n",
       "    </tr>\n",
       "    <tr>\n",
       "      <th>4</th>\n",
       "      <td>450</td>\n",
       "      <td>Produits laitiers et desserts frais</td>\n",
       "      <td>Yaourts et laits fermentes sucres classiques</td>\n",
       "      <td>epaississants : amidon transforme de mais, gom...</td>\n",
       "    </tr>\n",
       "  </tbody>\n",
       "</table>\n",
       "</div>"
      ],
      "text/plain": [
       "   Code_produit                              Secteur  \\\n",
       "0           450  Produits laitiers et desserts frais   \n",
       "1           450  Produits laitiers et desserts frais   \n",
       "2           450  Produits laitiers et desserts frais   \n",
       "3           450  Produits laitiers et desserts frais   \n",
       "4           450  Produits laitiers et desserts frais   \n",
       "\n",
       "                                        Famille  \\\n",
       "0  Yaourts et laits fermentes sucres classiques   \n",
       "1  Yaourts et laits fermentes sucres classiques   \n",
       "2  Yaourts et laits fermentes sucres classiques   \n",
       "3  Yaourts et laits fermentes sucres classiques   \n",
       "4  Yaourts et laits fermentes sucres classiques   \n",
       "\n",
       "                                          Ingrédient  \n",
       "0                            lait ecreme reconstitue  \n",
       "1                                              sucre  \n",
       "2                                  fruit : framboise  \n",
       "3                                              creme  \n",
       "4  epaississants : amidon transforme de mais, gom...  "
      ]
     },
     "execution_count": 15,
     "metadata": {},
     "output_type": "execute_result"
    }
   ],
   "source": [
    "df.head()"
   ]
  },
  {
   "cell_type": "markdown",
   "metadata": {},
   "source": [
    "We can see on the DataFrame that they are 4 features.\n",
    "The feature called Ingrédient contains too many informations, we want to have a clean \"Ingrédient\" without too many possibilities in order to match easily with the data from the web-scraping.\n",
    "1. We will delete every ingredients after the \":\" which describes us the composition of this ingredient. We can give one exemple with \"chocolat noir : masse de cacao, sucre, emulsifiant : lecithine de soja\"\n",
    "We will do this for 3 reasons, the first one is that some data from the web-scraping won't put every detail about the ingredient but just \"chocolat noir\" because the data from Oqali are really precise. The second is that they are not the main composition of the product, they are just a part of an ingredient, we can suppose that in the majority their % in the product is really low. Finally we tested different classification with them and without them and the result where almost the same.\n",
    "+ add that they will introduce the unicity of the ingredient\n",
    "+ they are \"conservateur\", \"epaississant\", ect ... not really important and they composition can vary from a brand to another\n",
    "2. We will delete every ingredients that are in \"()\" for the same reasons as \":\"\n",
    "3. To see if the data is clean and for the rest of the study we will remplace every \" \" with \"_\"\n",
    "4. We drop every rows that contain an ingredient which is unique in the data"
   ]
  },
  {
   "cell_type": "code",
   "execution_count": 16,
   "metadata": {},
   "outputs": [
    {
     "name": "stderr",
     "output_type": "stream",
     "text": [
      "C:\\Users\\Thomas Aujoux\\AppData\\Local\\Temp\\ipykernel_15816\\3092734722.py:3: SettingWithCopyWarning: \n",
      "A value is trying to be set on a copy of a slice from a DataFrame\n",
      "\n",
      "See the caveats in the documentation: https://pandas.pydata.org/pandas-docs/stable/user_guide/indexing.html#returning-a-view-versus-a-copy\n",
      "  df.Ingrédient[df.Ingrédient.str.contains(\"\\(\")] = df[df.Ingrédient.str.contains(\"\\(\")].Ingrédient.str.replace(r\"\\s\\(.*\\)\", \"\", regex=True)\n",
      "C:\\Users\\Thomas Aujoux\\AppData\\Local\\Temp\\ipykernel_15816\\3092734722.py:4: SettingWithCopyWarning: \n",
      "A value is trying to be set on a copy of a slice from a DataFrame\n",
      "\n",
      "See the caveats in the documentation: https://pandas.pydata.org/pandas-docs/stable/user_guide/indexing.html#returning-a-view-versus-a-copy\n",
      "  df.Ingrédient[df.Ingrédient.str.contains(\"\\(\")] = df[df.Ingrédient.str.contains(\"\\(\")].Ingrédient.str.replace(r\"\\s\\(.*\\)\\s\", \" \", regex=True)\n",
      "C:\\Users\\Thomas Aujoux\\AppData\\Local\\Temp\\ipykernel_15816\\3092734722.py:5: SettingWithCopyWarning: \n",
      "A value is trying to be set on a copy of a slice from a DataFrame\n",
      "\n",
      "See the caveats in the documentation: https://pandas.pydata.org/pandas-docs/stable/user_guide/indexing.html#returning-a-view-versus-a-copy\n",
      "  df.Ingrédient[df.Ingrédient.str.contains(\"\\(\")] = df[df.Ingrédient.str.contains(\"\\(\")].Ingrédient.str.replace(r\"\\(.*\\)\", \"\", regex=True)\n",
      "C:\\Users\\Thomas Aujoux\\AppData\\Local\\Temp\\ipykernel_15816\\3092734722.py:6: SettingWithCopyWarning: \n",
      "A value is trying to be set on a copy of a slice from a DataFrame\n",
      "\n",
      "See the caveats in the documentation: https://pandas.pydata.org/pandas-docs/stable/user_guide/indexing.html#returning-a-view-versus-a-copy\n",
      "  df.Ingrédient[df.Ingrédient.str.contains(\"\\(\")] = df[df.Ingrédient.str.contains(\"\\(\")].Ingrédient.str.replace(r\"\\(.*\", \"\", regex=True)\n"
     ]
    }
   ],
   "source": [
    "df = df[~df['Secteur'].isin(['Sauces condimentaires_RHF', 'Bouillons et potages_RHF'])]\n",
    "df.Ingrédient[df.Ingrédient.str.contains(\":\")] = df[df.Ingrédient.str.contains(\":\")].Ingrédient.str.split().map(lambda x: x[0])\n",
    "df.Ingrédient[df.Ingrédient.str.contains(\"\\(\")] = df[df.Ingrédient.str.contains(\"\\(\")].Ingrédient.str.replace(r\"\\s\\(.*\\)\", \"\", regex=True)\n",
    "df.Ingrédient[df.Ingrédient.str.contains(\"\\(\")] = df[df.Ingrédient.str.contains(\"\\(\")].Ingrédient.str.replace(r\"\\s\\(.*\\)\\s\", \" \", regex=True)\n",
    "df.Ingrédient[df.Ingrédient.str.contains(\"\\(\")] = df[df.Ingrédient.str.contains(\"\\(\")].Ingrédient.str.replace(r\"\\(.*\\)\", \"\", regex=True)\n",
    "df.Ingrédient[df.Ingrédient.str.contains(\"\\(\")] = df[df.Ingrédient.str.contains(\"\\(\")].Ingrédient.str.replace(r\"\\(.*\", \"\", regex=True)\n",
    "df.Ingrédient = df[\"Ingrédient\"].apply(lambda x: x.rstrip())\n",
    "df.Ingrédient = df[\"Ingrédient\"].apply(lambda x: x.lstrip())\n",
    "df = df[df.duplicated(subset=['Ingrédient'], keep=False)]\n",
    "df_ = df.copy()\n",
    "df_['Ingrédient'] = df_['Ingrédient'].apply(lambda x : x.replace(' ','_'))"
   ]
  },
  {
   "cell_type": "code",
   "execution_count": 17,
   "metadata": {},
   "outputs": [],
   "source": [
    "df = df.drop(index=[1167903,\n",
    "                    1053668,\n",
    "                    875941,\n",
    "                    #1158191,\n",
    "                    #382675,\n",
    "                    701702,\n",
    "                    1202560,\n",
    "                    1412604,\n",
    "                    489683,\n",
    "                    1441080,\n",
    "                    1441208,\n",
    "                    20633,\n",
    "                    429562\n",
    "                    ])\n",
    "df_ = df_.drop(index=[1167903,\n",
    "                    1053668,\n",
    "                    875941,\n",
    "                    #1158191,\n",
    "                    #382675,\n",
    "                    701702,\n",
    "                    1202560,\n",
    "                    1412604,\n",
    "                    489683,\n",
    "                    1441080,\n",
    "                    1441208,\n",
    "                    20633,\n",
    "                    429562\n",
    "                    ])"
   ]
  },
  {
   "cell_type": "code",
   "execution_count": 19,
   "metadata": {},
   "outputs": [
    {
     "data": {
      "text/html": [
       "<div>\n",
       "<style scoped>\n",
       "    .dataframe tbody tr th:only-of-type {\n",
       "        vertical-align: middle;\n",
       "    }\n",
       "\n",
       "    .dataframe tbody tr th {\n",
       "        vertical-align: top;\n",
       "    }\n",
       "\n",
       "    .dataframe thead th {\n",
       "        text-align: right;\n",
       "    }\n",
       "</style>\n",
       "<table border=\"1\" class=\"dataframe\">\n",
       "  <thead>\n",
       "    <tr style=\"text-align: right;\">\n",
       "      <th></th>\n",
       "      <th>Code_produit</th>\n",
       "      <th>Secteur</th>\n",
       "      <th>Famille</th>\n",
       "      <th>Ingrédient</th>\n",
       "    </tr>\n",
       "  </thead>\n",
       "  <tbody>\n",
       "    <tr>\n",
       "      <th>0</th>\n",
       "      <td>450</td>\n",
       "      <td>Produits laitiers et desserts frais</td>\n",
       "      <td>Yaourts et laits fermentes sucres classiques</td>\n",
       "      <td>lait ecreme reconstitue</td>\n",
       "    </tr>\n",
       "    <tr>\n",
       "      <th>1</th>\n",
       "      <td>450</td>\n",
       "      <td>Produits laitiers et desserts frais</td>\n",
       "      <td>Yaourts et laits fermentes sucres classiques</td>\n",
       "      <td>sucre</td>\n",
       "    </tr>\n",
       "    <tr>\n",
       "      <th>2</th>\n",
       "      <td>450</td>\n",
       "      <td>Produits laitiers et desserts frais</td>\n",
       "      <td>Yaourts et laits fermentes sucres classiques</td>\n",
       "      <td>fruit</td>\n",
       "    </tr>\n",
       "    <tr>\n",
       "      <th>3</th>\n",
       "      <td>450</td>\n",
       "      <td>Produits laitiers et desserts frais</td>\n",
       "      <td>Yaourts et laits fermentes sucres classiques</td>\n",
       "      <td>creme</td>\n",
       "    </tr>\n",
       "    <tr>\n",
       "      <th>4</th>\n",
       "      <td>450</td>\n",
       "      <td>Produits laitiers et desserts frais</td>\n",
       "      <td>Yaourts et laits fermentes sucres classiques</td>\n",
       "      <td>epaississants</td>\n",
       "    </tr>\n",
       "  </tbody>\n",
       "</table>\n",
       "</div>"
      ],
      "text/plain": [
       "   Code_produit                              Secteur  \\\n",
       "0           450  Produits laitiers et desserts frais   \n",
       "1           450  Produits laitiers et desserts frais   \n",
       "2           450  Produits laitiers et desserts frais   \n",
       "3           450  Produits laitiers et desserts frais   \n",
       "4           450  Produits laitiers et desserts frais   \n",
       "\n",
       "                                        Famille               Ingrédient  \n",
       "0  Yaourts et laits fermentes sucres classiques  lait ecreme reconstitue  \n",
       "1  Yaourts et laits fermentes sucres classiques                    sucre  \n",
       "2  Yaourts et laits fermentes sucres classiques                    fruit  \n",
       "3  Yaourts et laits fermentes sucres classiques                    creme  \n",
       "4  Yaourts et laits fermentes sucres classiques            epaississants  "
      ]
     },
     "execution_count": 19,
     "metadata": {},
     "output_type": "execute_result"
    }
   ],
   "source": [
    "df.head()"
   ]
  },
  {
   "cell_type": "code",
   "execution_count": 21,
   "metadata": {},
   "outputs": [
    {
     "data": {
      "text/html": [
       "<div>\n",
       "<style scoped>\n",
       "    .dataframe tbody tr th:only-of-type {\n",
       "        vertical-align: middle;\n",
       "    }\n",
       "\n",
       "    .dataframe tbody tr th {\n",
       "        vertical-align: top;\n",
       "    }\n",
       "\n",
       "    .dataframe thead th {\n",
       "        text-align: right;\n",
       "    }\n",
       "</style>\n",
       "<table border=\"1\" class=\"dataframe\">\n",
       "  <thead>\n",
       "    <tr style=\"text-align: right;\">\n",
       "      <th></th>\n",
       "      <th>Code_produit</th>\n",
       "      <th>Secteur</th>\n",
       "      <th>Famille</th>\n",
       "      <th>Ingrédient</th>\n",
       "    </tr>\n",
       "  </thead>\n",
       "  <tbody>\n",
       "    <tr>\n",
       "      <th>0</th>\n",
       "      <td>450</td>\n",
       "      <td>Produits laitiers et desserts frais</td>\n",
       "      <td>Yaourts et laits fermentes sucres classiques</td>\n",
       "      <td>lait_ecreme_reconstitue</td>\n",
       "    </tr>\n",
       "    <tr>\n",
       "      <th>1</th>\n",
       "      <td>450</td>\n",
       "      <td>Produits laitiers et desserts frais</td>\n",
       "      <td>Yaourts et laits fermentes sucres classiques</td>\n",
       "      <td>sucre</td>\n",
       "    </tr>\n",
       "    <tr>\n",
       "      <th>2</th>\n",
       "      <td>450</td>\n",
       "      <td>Produits laitiers et desserts frais</td>\n",
       "      <td>Yaourts et laits fermentes sucres classiques</td>\n",
       "      <td>fruit</td>\n",
       "    </tr>\n",
       "    <tr>\n",
       "      <th>3</th>\n",
       "      <td>450</td>\n",
       "      <td>Produits laitiers et desserts frais</td>\n",
       "      <td>Yaourts et laits fermentes sucres classiques</td>\n",
       "      <td>creme</td>\n",
       "    </tr>\n",
       "    <tr>\n",
       "      <th>4</th>\n",
       "      <td>450</td>\n",
       "      <td>Produits laitiers et desserts frais</td>\n",
       "      <td>Yaourts et laits fermentes sucres classiques</td>\n",
       "      <td>epaississants</td>\n",
       "    </tr>\n",
       "  </tbody>\n",
       "</table>\n",
       "</div>"
      ],
      "text/plain": [
       "   Code_produit                              Secteur  \\\n",
       "0           450  Produits laitiers et desserts frais   \n",
       "1           450  Produits laitiers et desserts frais   \n",
       "2           450  Produits laitiers et desserts frais   \n",
       "3           450  Produits laitiers et desserts frais   \n",
       "4           450  Produits laitiers et desserts frais   \n",
       "\n",
       "                                        Famille               Ingrédient  \n",
       "0  Yaourts et laits fermentes sucres classiques  lait_ecreme_reconstitue  \n",
       "1  Yaourts et laits fermentes sucres classiques                    sucre  \n",
       "2  Yaourts et laits fermentes sucres classiques                    fruit  \n",
       "3  Yaourts et laits fermentes sucres classiques                    creme  \n",
       "4  Yaourts et laits fermentes sucres classiques            epaississants  "
      ]
     },
     "execution_count": 21,
     "metadata": {},
     "output_type": "execute_result"
    }
   ],
   "source": [
    "df_.head()"
   ]
  },
  {
   "cell_type": "code",
   "execution_count": null,
   "metadata": {},
   "outputs": [
    {
     "name": "stdout",
     "output_type": "stream",
     "text": [
      "[450, 453, 455, 456, 460, 463, 464, 496, 498, 513] ['Aliments infantiles de diversification', 'Aperitifs a croquer', 'Barres cerealieres', 'Biscuits et gateaux industriels', 'Boissons Rafraichissantes Sans Alcool', 'Bouillons et potages', 'Bouillons et potages_RHF', 'Cereales pour le petit dejeuner', 'Charcuterie', 'Chocolat et produits chocolates'] ['Arachides et graines', 'Assortiment de glaces', 'Assortiments', 'Assortiments de chocolats', 'Assortiments de confiseries', 'Assortiments de mignardises', 'Assortiments de snacking', 'Aumonieres aperitives', 'Autre fromage a pate persillee', 'Autre fromage a pate pressee cuite'] ['3_poivres', 'abondance_aop', 'abricot', 'abricot_de_provence', 'abricot_deshydrate', 'abricot_lyophilise', 'abricot_nectarine', 'abricot_orange', 'abricot_peche', 'abricot_sec']\n"
     ]
    }
   ],
   "source": [
    "a = sorted(df[\"Code_produit\"].unique())\n",
    "b = sorted(df[\"Secteur\"].unique(), key=str.lower)\n",
    "c = sorted(df[\"Famille\"].unique(), key=str.lower)\n",
    "d = sorted(df[\"Ingrédient\"].unique(), key=str.lower)\n",
    "e = df.Ingrédient[df.Ingrédient.str.contains(\":\")]\n",
    "f = df.Ingrédient[df.Ingrédient.str.contains(\"\\(\")]\n",
    "print(a[0:10], b[0:10], c[0:10], d[0:10])"
   ]
  },
  {
   "cell_type": "code",
   "execution_count": 13,
   "metadata": {},
   "outputs": [],
   "source": [
    "df.to_csv(r'C:\\Users\\Thomas Aujoux\\Documents\\GitHub\\food-classification\\data_preparation\\clean.csv')\n",
    "df_.to_csv(r'C:\\Users\\Thomas Aujoux\\Documents\\GitHub\\food-classification\\data_preparation\\clean_.csv')"
   ]
  },
  {
   "cell_type": "code",
   "execution_count": 22,
   "metadata": {},
   "outputs": [],
   "source": [
    "df_new = df.groupby(['Code_produit', 'Secteur'])['Ingrédient'].agg(lambda col: ' '.join(col)).reset_index(name='Ingrédient')\n",
    "\n",
    "from sklearn.feature_extraction.text import CountVectorizer\n",
    "coun_vect = CountVectorizer(token_pattern='\\\\b(\\\\w+[\\\\.,%_1234567890:()]?\\\\w+)\\\\b')\n",
    "count_matrix = coun_vect.fit_transform(df_new['Ingrédient'])\n",
    "count_array = count_matrix.toarray()\n",
    "df_vect = pd.DataFrame(data=count_array,columns = coun_vect.get_feature_names_out())\n",
    "new_df = pd.concat([df_new[[\"Code_produit\", \"Secteur\"]], df_vect], axis=1)"
   ]
  },
  {
   "cell_type": "code",
   "execution_count": 24,
   "metadata": {},
   "outputs": [],
   "source": [
    "df_new = df.groupby(['Code_produit', 'Secteur'])['Ingrédient'].agg(lambda col: ' '.join(col)).reset_index(name='Ingrédient')\n",
    "\n",
    "from sklearn.feature_extraction.text import CountVectorizer\n",
    "coun_vect = CountVectorizer(token_pattern=r\"(?:(?<=^)|(?<=\\s))([a-zA-Z0-9]+)(?:(?=\\s)|(?=$))\")\n",
    "count_matrix = coun_vect.fit_transform(df_new['Ingrédient'])\n",
    "count_array = count_matrix.toarray()\n",
    "df_vect = pd.DataFrame(data=count_array,columns = coun_vect.get_feature_names_out())\n",
    "new_df2 = pd.concat([df_new[[\"Code_produit\", \"Secteur\"]], df_vect], axis=1)"
   ]
  },
  {
   "cell_type": "code",
   "execution_count": 35,
   "metadata": {},
   "outputs": [
    {
     "data": {
      "text/html": [
       "<div>\n",
       "<style scoped>\n",
       "    .dataframe tbody tr th:only-of-type {\n",
       "        vertical-align: middle;\n",
       "    }\n",
       "\n",
       "    .dataframe tbody tr th {\n",
       "        vertical-align: top;\n",
       "    }\n",
       "\n",
       "    .dataframe thead th {\n",
       "        text-align: right;\n",
       "    }\n",
       "</style>\n",
       "<table border=\"1\" class=\"dataframe\">\n",
       "  <thead>\n",
       "    <tr style=\"text-align: right;\">\n",
       "      <th></th>\n",
       "      <th>Code_produit</th>\n",
       "      <th>Secteur</th>\n",
       "      <th>3_poivres</th>\n",
       "      <th>_ananas</th>\n",
       "      <th>_b1,_b9</th>\n",
       "      <th>_b1,_b9_et_provitamine_a</th>\n",
       "      <th>_b12</th>\n",
       "      <th>_caillettes_de_boeuf_en_proportions_naturelles</th>\n",
       "      <th>_carotte,_potiron_et_spiruline</th>\n",
       "      <th>_d_avoine,_de_riz_et_d_epeautre</th>\n",
       "      <th>...</th>\n",
       "      <th>zestes_d_orange</th>\n",
       "      <th>zestes_d_oranges</th>\n",
       "      <th>zestes_de_citron</th>\n",
       "      <th>zestes_de_citron_deshydrates</th>\n",
       "      <th>zestes_de_citron_jaune</th>\n",
       "      <th>zestes_de_citron_vert</th>\n",
       "      <th>zestes_de_citrons</th>\n",
       "      <th>zestes_de_mandarine</th>\n",
       "      <th>zinc</th>\n",
       "      <th>zygochlamys_patagonica</th>\n",
       "    </tr>\n",
       "  </thead>\n",
       "  <tbody>\n",
       "    <tr>\n",
       "      <th>0</th>\n",
       "      <td>450</td>\n",
       "      <td>Produits laitiers et desserts frais</td>\n",
       "      <td>0</td>\n",
       "      <td>0</td>\n",
       "      <td>0</td>\n",
       "      <td>0</td>\n",
       "      <td>0</td>\n",
       "      <td>0</td>\n",
       "      <td>0</td>\n",
       "      <td>0</td>\n",
       "      <td>...</td>\n",
       "      <td>0</td>\n",
       "      <td>0</td>\n",
       "      <td>0</td>\n",
       "      <td>0</td>\n",
       "      <td>0</td>\n",
       "      <td>0</td>\n",
       "      <td>0</td>\n",
       "      <td>0</td>\n",
       "      <td>0</td>\n",
       "      <td>0</td>\n",
       "    </tr>\n",
       "    <tr>\n",
       "      <th>1</th>\n",
       "      <td>453</td>\n",
       "      <td>Produits laitiers et desserts frais</td>\n",
       "      <td>0</td>\n",
       "      <td>0</td>\n",
       "      <td>0</td>\n",
       "      <td>0</td>\n",
       "      <td>0</td>\n",
       "      <td>0</td>\n",
       "      <td>0</td>\n",
       "      <td>0</td>\n",
       "      <td>...</td>\n",
       "      <td>0</td>\n",
       "      <td>0</td>\n",
       "      <td>0</td>\n",
       "      <td>0</td>\n",
       "      <td>0</td>\n",
       "      <td>0</td>\n",
       "      <td>0</td>\n",
       "      <td>0</td>\n",
       "      <td>0</td>\n",
       "      <td>0</td>\n",
       "    </tr>\n",
       "    <tr>\n",
       "      <th>2</th>\n",
       "      <td>455</td>\n",
       "      <td>Produits laitiers et desserts frais</td>\n",
       "      <td>0</td>\n",
       "      <td>0</td>\n",
       "      <td>0</td>\n",
       "      <td>0</td>\n",
       "      <td>0</td>\n",
       "      <td>0</td>\n",
       "      <td>0</td>\n",
       "      <td>0</td>\n",
       "      <td>...</td>\n",
       "      <td>0</td>\n",
       "      <td>0</td>\n",
       "      <td>0</td>\n",
       "      <td>0</td>\n",
       "      <td>0</td>\n",
       "      <td>0</td>\n",
       "      <td>0</td>\n",
       "      <td>0</td>\n",
       "      <td>0</td>\n",
       "      <td>0</td>\n",
       "    </tr>\n",
       "    <tr>\n",
       "      <th>3</th>\n",
       "      <td>456</td>\n",
       "      <td>Produits laitiers et desserts frais</td>\n",
       "      <td>0</td>\n",
       "      <td>0</td>\n",
       "      <td>0</td>\n",
       "      <td>0</td>\n",
       "      <td>0</td>\n",
       "      <td>0</td>\n",
       "      <td>0</td>\n",
       "      <td>0</td>\n",
       "      <td>...</td>\n",
       "      <td>0</td>\n",
       "      <td>0</td>\n",
       "      <td>0</td>\n",
       "      <td>0</td>\n",
       "      <td>0</td>\n",
       "      <td>0</td>\n",
       "      <td>0</td>\n",
       "      <td>0</td>\n",
       "      <td>0</td>\n",
       "      <td>0</td>\n",
       "    </tr>\n",
       "    <tr>\n",
       "      <th>4</th>\n",
       "      <td>460</td>\n",
       "      <td>Produits laitiers et desserts frais</td>\n",
       "      <td>0</td>\n",
       "      <td>0</td>\n",
       "      <td>0</td>\n",
       "      <td>0</td>\n",
       "      <td>0</td>\n",
       "      <td>0</td>\n",
       "      <td>0</td>\n",
       "      <td>0</td>\n",
       "      <td>...</td>\n",
       "      <td>0</td>\n",
       "      <td>0</td>\n",
       "      <td>0</td>\n",
       "      <td>0</td>\n",
       "      <td>0</td>\n",
       "      <td>0</td>\n",
       "      <td>0</td>\n",
       "      <td>0</td>\n",
       "      <td>0</td>\n",
       "      <td>0</td>\n",
       "    </tr>\n",
       "  </tbody>\n",
       "</table>\n",
       "<p>5 rows × 12807 columns</p>\n",
       "</div>"
      ],
      "text/plain": [
       "   Code_produit                              Secteur  3_poivres  _ananas  \\\n",
       "0           450  Produits laitiers et desserts frais          0        0   \n",
       "1           453  Produits laitiers et desserts frais          0        0   \n",
       "2           455  Produits laitiers et desserts frais          0        0   \n",
       "3           456  Produits laitiers et desserts frais          0        0   \n",
       "4           460  Produits laitiers et desserts frais          0        0   \n",
       "\n",
       "   _b1,_b9  _b1,_b9_et_provitamine_a  _b12  \\\n",
       "0        0                         0     0   \n",
       "1        0                         0     0   \n",
       "2        0                         0     0   \n",
       "3        0                         0     0   \n",
       "4        0                         0     0   \n",
       "\n",
       "   _caillettes_de_boeuf_en_proportions_naturelles  \\\n",
       "0                                               0   \n",
       "1                                               0   \n",
       "2                                               0   \n",
       "3                                               0   \n",
       "4                                               0   \n",
       "\n",
       "   _carotte,_potiron_et_spiruline  _d_avoine,_de_riz_et_d_epeautre  ...  \\\n",
       "0                               0                                0  ...   \n",
       "1                               0                                0  ...   \n",
       "2                               0                                0  ...   \n",
       "3                               0                                0  ...   \n",
       "4                               0                                0  ...   \n",
       "\n",
       "   zestes_d_orange  zestes_d_oranges  zestes_de_citron  \\\n",
       "0                0                 0                 0   \n",
       "1                0                 0                 0   \n",
       "2                0                 0                 0   \n",
       "3                0                 0                 0   \n",
       "4                0                 0                 0   \n",
       "\n",
       "   zestes_de_citron_deshydrates  zestes_de_citron_jaune  \\\n",
       "0                             0                       0   \n",
       "1                             0                       0   \n",
       "2                             0                       0   \n",
       "3                             0                       0   \n",
       "4                             0                       0   \n",
       "\n",
       "   zestes_de_citron_vert  zestes_de_citrons  zestes_de_mandarine  zinc  \\\n",
       "0                      0                  0                    0     0   \n",
       "1                      0                  0                    0     0   \n",
       "2                      0                  0                    0     0   \n",
       "3                      0                  0                    0     0   \n",
       "4                      0                  0                    0     0   \n",
       "\n",
       "   zygochlamys_patagonica  \n",
       "0                       0  \n",
       "1                       0  \n",
       "2                       0  \n",
       "3                       0  \n",
       "4                       0  \n",
       "\n",
       "[5 rows x 12807 columns]"
      ]
     },
     "execution_count": 35,
     "metadata": {},
     "output_type": "execute_result"
    }
   ],
   "source": [
    "new_df.head()"
   ]
  },
  {
   "cell_type": "code",
   "execution_count": 10,
   "metadata": {},
   "outputs": [],
   "source": [
    "z = pd.DataFrame(new_df.columns.values)\n",
    "y = pd.DataFrame(new_df2.columns.values)"
   ]
  },
  {
   "cell_type": "code",
   "execution_count": 8,
   "metadata": {},
   "outputs": [],
   "source": [
    "u = new_df2.loc[53]"
   ]
  },
  {
   "cell_type": "code",
   "execution_count": 9,
   "metadata": {},
   "outputs": [],
   "source": [
    "new_df = new_df.drop(['_ananas', '_b1,_b9', '_b1,_b9_et_provitamine_a', '_b12', '_caillettes_de_boeuf_en_proportions_naturelles', '_carotte,_potiron_et_spiruline', '_d_avoine,_de_riz_et_d_epeautre', '_d_orge_et_de_riz', '_de_cassis_et_de_mure', '_de_cuivre', '_de_cuivre_et_de_manganese', '_de_matiere_grasse', '_de_matieres_grasses_au_lait_demi_ecreme_pasteurise', '_de_mg', '_de_thym,_de_laurier', '_e', '_gr', '_lb.rhamnosus', '_maigre_de_tete,_viande_et_couenne_de_porc', '_mg', '_paprika', '_provitamine_a', '_rooibos_et_du_melange_de_13_plantes_ricola', '_tournesol', '_vanille'], axis=1)"
   ]
  },
  {
   "cell_type": "code",
   "execution_count": 11,
   "metadata": {},
   "outputs": [
    {
     "ename": "KeyboardInterrupt",
     "evalue": "",
     "output_type": "error",
     "traceback": [
      "\u001b[1;31m---------------------------------------------------------------------------\u001b[0m",
      "\u001b[1;31mKeyboardInterrupt\u001b[0m                         Traceback (most recent call last)",
      "Cell \u001b[1;32mIn[11], line 1\u001b[0m\n\u001b[1;32m----> 1\u001b[0m new_df\u001b[39m.\u001b[39;49mto_csv(\u001b[39mr\u001b[39;49m\u001b[39m'\u001b[39;49m\u001b[39mC:\u001b[39;49m\u001b[39m\\\u001b[39;49m\u001b[39mUsers\u001b[39;49m\u001b[39m\\\u001b[39;49m\u001b[39mThomas Aujoux\u001b[39;49m\u001b[39m\\\u001b[39;49m\u001b[39mDocuments\u001b[39;49m\u001b[39m\\\u001b[39;49m\u001b[39mGitHub\u001b[39;49m\u001b[39m\\\u001b[39;49m\u001b[39mfood-classification\u001b[39;49m\u001b[39m\\\u001b[39;49m\u001b[39mdata_preparation\u001b[39;49m\u001b[39m\\\u001b[39;49m\u001b[39mclean.csv\u001b[39;49m\u001b[39m'\u001b[39;49m)\n\u001b[0;32m      2\u001b[0m new_df2\u001b[39m.\u001b[39mto_csv(\u001b[39mr\u001b[39m\u001b[39m'\u001b[39m\u001b[39mC:\u001b[39m\u001b[39m\\\u001b[39m\u001b[39mUsers\u001b[39m\u001b[39m\\\u001b[39m\u001b[39mThomas Aujoux\u001b[39m\u001b[39m\\\u001b[39m\u001b[39mDocuments\u001b[39m\u001b[39m\\\u001b[39m\u001b[39mGitHub\u001b[39m\u001b[39m\\\u001b[39m\u001b[39mfood-classification\u001b[39m\u001b[39m\\\u001b[39m\u001b[39mdata_preparation\u001b[39m\u001b[39m\\\u001b[39m\u001b[39mclean2.csv\u001b[39m\u001b[39m'\u001b[39m)\n",
      "File \u001b[1;32mc:\\Users\\Thomas Aujoux\\AppData\\Local\\Programs\\Python\\Python311\\Lib\\site-packages\\pandas\\core\\generic.py:3772\u001b[0m, in \u001b[0;36mNDFrame.to_csv\u001b[1;34m(self, path_or_buf, sep, na_rep, float_format, columns, header, index, index_label, mode, encoding, compression, quoting, quotechar, lineterminator, chunksize, date_format, doublequote, escapechar, decimal, errors, storage_options)\u001b[0m\n\u001b[0;32m   3761\u001b[0m df \u001b[39m=\u001b[39m \u001b[39mself\u001b[39m \u001b[39mif\u001b[39;00m \u001b[39misinstance\u001b[39m(\u001b[39mself\u001b[39m, ABCDataFrame) \u001b[39melse\u001b[39;00m \u001b[39mself\u001b[39m\u001b[39m.\u001b[39mto_frame()\n\u001b[0;32m   3763\u001b[0m formatter \u001b[39m=\u001b[39m DataFrameFormatter(\n\u001b[0;32m   3764\u001b[0m     frame\u001b[39m=\u001b[39mdf,\n\u001b[0;32m   3765\u001b[0m     header\u001b[39m=\u001b[39mheader,\n\u001b[1;32m   (...)\u001b[0m\n\u001b[0;32m   3769\u001b[0m     decimal\u001b[39m=\u001b[39mdecimal,\n\u001b[0;32m   3770\u001b[0m )\n\u001b[1;32m-> 3772\u001b[0m \u001b[39mreturn\u001b[39;00m DataFrameRenderer(formatter)\u001b[39m.\u001b[39;49mto_csv(\n\u001b[0;32m   3773\u001b[0m     path_or_buf,\n\u001b[0;32m   3774\u001b[0m     lineterminator\u001b[39m=\u001b[39;49mlineterminator,\n\u001b[0;32m   3775\u001b[0m     sep\u001b[39m=\u001b[39;49msep,\n\u001b[0;32m   3776\u001b[0m     encoding\u001b[39m=\u001b[39;49mencoding,\n\u001b[0;32m   3777\u001b[0m     errors\u001b[39m=\u001b[39;49merrors,\n\u001b[0;32m   3778\u001b[0m     compression\u001b[39m=\u001b[39;49mcompression,\n\u001b[0;32m   3779\u001b[0m     quoting\u001b[39m=\u001b[39;49mquoting,\n\u001b[0;32m   3780\u001b[0m     columns\u001b[39m=\u001b[39;49mcolumns,\n\u001b[0;32m   3781\u001b[0m     index_label\u001b[39m=\u001b[39;49mindex_label,\n\u001b[0;32m   3782\u001b[0m     mode\u001b[39m=\u001b[39;49mmode,\n\u001b[0;32m   3783\u001b[0m     chunksize\u001b[39m=\u001b[39;49mchunksize,\n\u001b[0;32m   3784\u001b[0m     quotechar\u001b[39m=\u001b[39;49mquotechar,\n\u001b[0;32m   3785\u001b[0m     date_format\u001b[39m=\u001b[39;49mdate_format,\n\u001b[0;32m   3786\u001b[0m     doublequote\u001b[39m=\u001b[39;49mdoublequote,\n\u001b[0;32m   3787\u001b[0m     escapechar\u001b[39m=\u001b[39;49mescapechar,\n\u001b[0;32m   3788\u001b[0m     storage_options\u001b[39m=\u001b[39;49mstorage_options,\n\u001b[0;32m   3789\u001b[0m )\n",
      "File \u001b[1;32mc:\\Users\\Thomas Aujoux\\AppData\\Local\\Programs\\Python\\Python311\\Lib\\site-packages\\pandas\\io\\formats\\format.py:1186\u001b[0m, in \u001b[0;36mDataFrameRenderer.to_csv\u001b[1;34m(self, path_or_buf, encoding, sep, columns, index_label, mode, compression, quoting, quotechar, lineterminator, chunksize, date_format, doublequote, escapechar, errors, storage_options)\u001b[0m\n\u001b[0;32m   1165\u001b[0m     created_buffer \u001b[39m=\u001b[39m \u001b[39mFalse\u001b[39;00m\n\u001b[0;32m   1167\u001b[0m csv_formatter \u001b[39m=\u001b[39m CSVFormatter(\n\u001b[0;32m   1168\u001b[0m     path_or_buf\u001b[39m=\u001b[39mpath_or_buf,\n\u001b[0;32m   1169\u001b[0m     lineterminator\u001b[39m=\u001b[39mlineterminator,\n\u001b[1;32m   (...)\u001b[0m\n\u001b[0;32m   1184\u001b[0m     formatter\u001b[39m=\u001b[39m\u001b[39mself\u001b[39m\u001b[39m.\u001b[39mfmt,\n\u001b[0;32m   1185\u001b[0m )\n\u001b[1;32m-> 1186\u001b[0m csv_formatter\u001b[39m.\u001b[39;49msave()\n\u001b[0;32m   1188\u001b[0m \u001b[39mif\u001b[39;00m created_buffer:\n\u001b[0;32m   1189\u001b[0m     \u001b[39massert\u001b[39;00m \u001b[39misinstance\u001b[39m(path_or_buf, StringIO)\n",
      "File \u001b[1;32mc:\\Users\\Thomas Aujoux\\AppData\\Local\\Programs\\Python\\Python311\\Lib\\site-packages\\pandas\\io\\formats\\csvs.py:259\u001b[0m, in \u001b[0;36mCSVFormatter.save\u001b[1;34m(self)\u001b[0m\n\u001b[0;32m    240\u001b[0m \u001b[39mwith\u001b[39;00m get_handle(\n\u001b[0;32m    241\u001b[0m     \u001b[39mself\u001b[39m\u001b[39m.\u001b[39mfilepath_or_buffer,\n\u001b[0;32m    242\u001b[0m     \u001b[39mself\u001b[39m\u001b[39m.\u001b[39mmode,\n\u001b[1;32m   (...)\u001b[0m\n\u001b[0;32m    247\u001b[0m ) \u001b[39mas\u001b[39;00m handles:\n\u001b[0;32m    248\u001b[0m     \u001b[39m# Note: self.encoding is irrelevant here\u001b[39;00m\n\u001b[0;32m    249\u001b[0m     \u001b[39mself\u001b[39m\u001b[39m.\u001b[39mwriter \u001b[39m=\u001b[39m csvlib\u001b[39m.\u001b[39mwriter(\n\u001b[0;32m    250\u001b[0m         handles\u001b[39m.\u001b[39mhandle,\n\u001b[0;32m    251\u001b[0m         lineterminator\u001b[39m=\u001b[39m\u001b[39mself\u001b[39m\u001b[39m.\u001b[39mlineterminator,\n\u001b[1;32m   (...)\u001b[0m\n\u001b[0;32m    256\u001b[0m         quotechar\u001b[39m=\u001b[39m\u001b[39mself\u001b[39m\u001b[39m.\u001b[39mquotechar,\n\u001b[0;32m    257\u001b[0m     )\n\u001b[1;32m--> 259\u001b[0m     \u001b[39mself\u001b[39;49m\u001b[39m.\u001b[39;49m_save()\n",
      "File \u001b[1;32mc:\\Users\\Thomas Aujoux\\AppData\\Local\\Programs\\Python\\Python311\\Lib\\site-packages\\pandas\\io\\formats\\csvs.py:264\u001b[0m, in \u001b[0;36mCSVFormatter._save\u001b[1;34m(self)\u001b[0m\n\u001b[0;32m    262\u001b[0m \u001b[39mif\u001b[39;00m \u001b[39mself\u001b[39m\u001b[39m.\u001b[39m_need_to_save_header:\n\u001b[0;32m    263\u001b[0m     \u001b[39mself\u001b[39m\u001b[39m.\u001b[39m_save_header()\n\u001b[1;32m--> 264\u001b[0m \u001b[39mself\u001b[39;49m\u001b[39m.\u001b[39;49m_save_body()\n",
      "File \u001b[1;32mc:\\Users\\Thomas Aujoux\\AppData\\Local\\Programs\\Python\\Python311\\Lib\\site-packages\\pandas\\io\\formats\\csvs.py:302\u001b[0m, in \u001b[0;36mCSVFormatter._save_body\u001b[1;34m(self)\u001b[0m\n\u001b[0;32m    300\u001b[0m \u001b[39mif\u001b[39;00m start_i \u001b[39m>\u001b[39m\u001b[39m=\u001b[39m end_i:\n\u001b[0;32m    301\u001b[0m     \u001b[39mbreak\u001b[39;00m\n\u001b[1;32m--> 302\u001b[0m \u001b[39mself\u001b[39;49m\u001b[39m.\u001b[39;49m_save_chunk(start_i, end_i)\n",
      "File \u001b[1;32mc:\\Users\\Thomas Aujoux\\AppData\\Local\\Programs\\Python\\Python311\\Lib\\site-packages\\pandas\\io\\formats\\csvs.py:313\u001b[0m, in \u001b[0;36mCSVFormatter._save_chunk\u001b[1;34m(self, start_i, end_i)\u001b[0m\n\u001b[0;32m    310\u001b[0m data \u001b[39m=\u001b[39m [res\u001b[39m.\u001b[39miget_values(i) \u001b[39mfor\u001b[39;00m i \u001b[39min\u001b[39;00m \u001b[39mrange\u001b[39m(\u001b[39mlen\u001b[39m(res\u001b[39m.\u001b[39mitems))]\n\u001b[0;32m    312\u001b[0m ix \u001b[39m=\u001b[39m \u001b[39mself\u001b[39m\u001b[39m.\u001b[39mdata_index[slicer]\u001b[39m.\u001b[39m_format_native_types(\u001b[39m*\u001b[39m\u001b[39m*\u001b[39m\u001b[39mself\u001b[39m\u001b[39m.\u001b[39m_number_format)\n\u001b[1;32m--> 313\u001b[0m libwriters\u001b[39m.\u001b[39;49mwrite_csv_rows(\n\u001b[0;32m    314\u001b[0m     data,\n\u001b[0;32m    315\u001b[0m     ix,\n\u001b[0;32m    316\u001b[0m     \u001b[39mself\u001b[39;49m\u001b[39m.\u001b[39;49mnlevels,\n\u001b[0;32m    317\u001b[0m     \u001b[39mself\u001b[39;49m\u001b[39m.\u001b[39;49mcols,\n\u001b[0;32m    318\u001b[0m     \u001b[39mself\u001b[39;49m\u001b[39m.\u001b[39;49mwriter,\n\u001b[0;32m    319\u001b[0m )\n",
      "File \u001b[1;32mc:\\Users\\Thomas Aujoux\\AppData\\Local\\Programs\\Python\\Python311\\Lib\\site-packages\\pandas\\_libs\\writers.pyx:75\u001b[0m, in \u001b[0;36mpandas._libs.writers.write_csv_rows\u001b[1;34m()\u001b[0m\n",
      "\u001b[1;31mKeyboardInterrupt\u001b[0m: "
     ]
    }
   ],
   "source": [
    "new_df.to_csv(r'C:\\Users\\Thomas Aujoux\\Documents\\GitHub\\food-classification\\data_preparation\\clean.csv')\n",
    "new_df2.to_csv(r'C:\\Users\\Thomas Aujoux\\Documents\\GitHub\\food-classification\\data_preparation\\clean2.csv')"
   ]
  }
 ],
 "metadata": {
  "kernelspec": {
   "display_name": "Python 3",
   "language": "python",
   "name": "python3"
  },
  "language_info": {
   "codemirror_mode": {
    "name": "ipython",
    "version": 3
   },
   "file_extension": ".py",
   "mimetype": "text/x-python",
   "name": "python",
   "nbconvert_exporter": "python",
   "pygments_lexer": "ipython3",
   "version": "3.11.3"
  },
  "orig_nbformat": 4
 },
 "nbformat": 4,
 "nbformat_minor": 2
}
