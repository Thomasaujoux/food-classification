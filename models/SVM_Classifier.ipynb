{
 "cells": [
  {
   "cell_type": "code",
   "execution_count": 1,
   "metadata": {},
   "outputs": [],
   "source": [
    "import pandas as pd\n",
    "df = pd.read_csv(r'C:\\Users\\Thomas Aujoux\\Documents\\GitHub\\food-classification\\Exploratory_Data_Analysis\\simply_clean_dict.csv')\n",
    "df = df[[\"Code_produit\", \"Secteur\", \"Ingrédient\"]]\n",
    "df.head()\n",
    "from sklearn.feature_extraction.text import CountVectorizer\n",
    "coun_vect = CountVectorizer()\n",
    "count_matrix = coun_vect.fit_transform(df['Ingrédient'])\n",
    "count_array = count_matrix.toarray()\n",
    "df5 = pd.DataFrame(data=count_array,columns = coun_vect.get_feature_names_out())\n",
    "new_df = pd.concat([df[[\"Code_produit\", \"Secteur\"]], df5], axis=1)\n",
    "y = new_df[\"Secteur\"]\n",
    "df_features = new_df.drop([\"Code_produit\", \"Secteur\"], axis=1)\n",
    "# Import train_test_split\n",
    "from sklearn.model_selection import train_test_split\n",
    "\n",
    "# Split into train, test\n",
    "X_train, X_test, y_train, y_test = train_test_split(df_features, y, test_size=0.2, shuffle=True, random_state=42)"
   ]
  },
  {
   "cell_type": "code",
   "execution_count": 2,
   "metadata": {},
   "outputs": [],
   "source": [
    "from sklearn.preprocessing import StandardScaler\n",
    "scaler = StandardScaler()\n",
    "X_train = scaler.fit_transform(X_train)\n",
    "X_test = scaler.transform(X_test)"
   ]
  },
  {
   "cell_type": "code",
   "execution_count": 6,
   "metadata": {},
   "outputs": [],
   "source": [
    "from sklearn.metrics import accuracy_score,confusion_matrix,ConfusionMatrixDisplay,f1_score, precision_score, recall_score, classification_report\n",
    "from sklearn.svm import SVC\n",
    "\n",
    "svc=SVC() \n",
    "svc.fit(X_train,y_train)\n",
    "y_pred=svc.predict(X_test)\n",
    "print('Model accuracy score with default hyperparameters: {0:0.4f}'. format(accuracy_score(y_test, y_pred)))"
   ]
  }
 ],
 "metadata": {
  "kernelspec": {
   "display_name": "Python 3",
   "language": "python",
   "name": "python3"
  },
  "language_info": {
   "codemirror_mode": {
    "name": "ipython",
    "version": 3
   },
   "file_extension": ".py",
   "mimetype": "text/x-python",
   "name": "python",
   "nbconvert_exporter": "python",
   "pygments_lexer": "ipython3",
   "version": "3.11.3"
  },
  "orig_nbformat": 4
 },
 "nbformat": 4,
 "nbformat_minor": 2
}
